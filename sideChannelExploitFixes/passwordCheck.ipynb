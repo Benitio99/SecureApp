{
 "cells": [
  {
   "cell_type": "code",
   "execution_count": 1,
   "metadata": {},
   "outputs": [],
   "source": [
    "\"\"\"\n",
    "@author Pierce Bennett\n",
    "\"\"\"\n",
    "import random as rd\n",
    "import time\n",
    "\n",
    "\"\"\"\n",
    "str sysPass: users stored password\n",
    "str userPass: users inputted password\n",
    "bool match: match/no match, default=True\n",
    "int iter: iteration number, default=0, max=len(sysPass)\n",
    "float wait: length to wait, default=3.0\n",
    "\"\"\"\n",
    "\n",
    "def passMatch(sysPass, userPass, match=True, iter=0, wait=3.0):\n",
    "    try:\n",
    "        if len(userPass) != len(sysPass):\n",
    "            raise Exception\n",
    "        while iter < len(sysPass):\n",
    "            if sysPass[iter] != userPass[iter]:\n",
    "                match = False\n",
    "            if iter == len(sysPass):\n",
    "                waitTime = wait\n",
    "            else:\n",
    "                waitTime = rd.SystemRandom().uniform(0, wait)\n",
    "            time.sleep(waitTime)\n",
    "            wait -= waitTime\n",
    "            iter += 1\n",
    "    except:\n",
    "        match = False\n",
    "        if iter == len(sysPass):\n",
    "            waitTime = wait\n",
    "        else:\n",
    "            waitTime = rd.SystemRandom().uniform(0, wait)\n",
    "        time.sleep(waitTime)\n",
    "        wait -= waitTime\n",
    "        iter += 1\n",
    "        if iter == len(sysPass):\n",
    "            return match\n",
    "        else:\n",
    "            passMatch(sysPass, userPass, match, iter, wait)\n",
    "    return match"
   ]
  },
  {
   "cell_type": "code",
   "execution_count": 10,
   "metadata": {},
   "outputs": [
    {
     "name": "stdout",
     "output_type": "stream",
     "text": [
      "\n",
      "Do the passwords match? False\n"
     ]
    }
   ],
   "source": [
    "password1 = \"password1\"\n",
    "inputPassword = \"password2\"\n",
    "print(\"\\nDo the passwords match? \" + str(passMatch(password1, inputPassword)))"
   ]
  },
  {
   "cell_type": "code",
   "execution_count": null,
   "metadata": {},
   "outputs": [],
   "source": []
  }
 ],
 "metadata": {
  "interpreter": {
   "hash": "07b8399e378a32cd1fa717c5e6dab29b216104316bff1a549d1d9c8edb12ca2c"
  },
  "kernelspec": {
   "display_name": "Python 3.10.0 64-bit",
   "language": "python",
   "name": "python3"
  },
  "language_info": {
   "codemirror_mode": {
    "name": "ipython",
    "version": 3
   },
   "file_extension": ".py",
   "mimetype": "text/x-python",
   "name": "python",
   "nbconvert_exporter": "python",
   "pygments_lexer": "ipython3",
   "version": "3.9.5"
  },
  "orig_nbformat": 4
 },
 "nbformat": 4,
 "nbformat_minor": 2
}
